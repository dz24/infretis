{
 "cells": [
  {
   "cell_type": "code",
   "execution_count": 3,
   "id": "87c21842",
   "metadata": {},
   "outputs": [
    {
     "name": "stderr",
     "output_type": "stream",
     "text": [
      "/home/daniel/dask_venv/lib/python3.8/site-packages/distributed/node.py:183: UserWarning: Port 8787 is already in use.\n",
      "Perhaps you already have a cluster running?\n",
      "Hosting the HTTP server on port 33919 instead\n",
      "  warnings.warn(\n"
     ]
    }
   ],
   "source": [
    "from dask.distributed import Client, as_completed, get_worker\n",
    "\n",
    "import numpy as np\n",
    "import time\n",
    "import os\n",
    "\n",
    "n_workers = 2\n",
    "client = Client(n_workers=n_workers)\n",
    "futures = as_completed(None, with_results=True)"
   ]
  },
  {
   "cell_type": "code",
   "execution_count": 9,
   "id": "06480172",
   "metadata": {},
   "outputs": [
    {
     "name": "stdout",
     "output_type": "stream",
     "text": [
      "{'tcp://127.0.0.1:39479': {'type': 'Worker', 'id': 1, 'host': '127.0.0.1', 'resources': {}, 'local_directory': '/tmp/dask-worker-space/worker-xhl008iq', 'name': 1, 'nthreads': 24, 'memory_limit': 16829775872, 'last_seen': 1666870868.7504215, 'services': {'dashboard': 36687}, 'metrics': {'executing': 0, 'in_memory': 0, 'ready': 0, 'in_flight': 0, 'bandwidth': {'total': 100000000, 'workers': {}, 'types': {}}, 'spilled_nbytes': {'memory': 0, 'disk': 0}, 'transfer': {'incoming_bytes': 0, 'incoming_count': 0, 'incoming_count_total': 0, 'outgoing_bytes': 0, 'outgoing_count': 0, 'outgoing_count_total': 0}, 'event_loop_interval': 0.01998781681060791, 'cpu': 4.0, 'memory': 85807104, 'time': 1666870868.745737, 'read_bytes': 9166.767362405682, 'write_bytes': 6427.135755403984, 'read_bytes_disk': 0.0, 'write_bytes_disk': 49145.391513630464, 'num_fds': 23}, 'status': 'running', 'nanny': 'tcp://127.0.0.1:43751'}, 'tcp://127.0.0.1:46191': {'type': 'Worker', 'id': 0, 'host': '127.0.0.1', 'resources': {}, 'local_directory': '/tmp/dask-worker-space/worker-1u0m0jgo', 'name': 0, 'nthreads': 24, 'memory_limit': 16829775872, 'last_seen': 1666870868.7578902, 'services': {'dashboard': 46361}, 'metrics': {'executing': 0, 'in_memory': 0, 'ready': 0, 'in_flight': 0, 'bandwidth': {'total': 100000000, 'workers': {}, 'types': {}}, 'spilled_nbytes': {'memory': 0, 'disk': 0}, 'transfer': {'incoming_bytes': 0, 'incoming_count': 0, 'incoming_count_total': 0, 'outgoing_bytes': 0, 'outgoing_count': 0, 'outgoing_count_total': 0}, 'event_loop_interval': 0.01999114513397217, 'cpu': 6.0, 'memory': 85766144, 'time': 1666870868.7536047, 'read_bytes': 9170.545002551788, 'write_bytes': 6429.7843887874005, 'read_bytes_disk': 0.0, 'write_bytes_disk': 49165.644411586545, 'num_fds': 23}, 'status': 'running', 'nanny': 'tcp://127.0.0.1:44305'}}\n"
     ]
    }
   ],
   "source": [
    "print(client.scheduler_info()['workers'])"
   ]
  },
  {
   "cell_type": "code",
   "execution_count": 33,
   "id": "3cc10da5",
   "metadata": {},
   "outputs": [],
   "source": [
    "def run_md(somestuff):\n",
    "    ape = get_worker()\n",
    "    out = []\n",
    "    out.append(somestuff)\n",
    "    out.append(type(ape))\n",
    "    out.append(ape.name)\n",
    "    # out.append(get_worker())\n",
    "    # out.append(dir(get_worker()))\n",
    "\n",
    "    return out"
   ]
  },
  {
   "cell_type": "code",
   "execution_count": 42,
   "id": "3d103f15",
   "metadata": {},
   "outputs": [
    {
     "name": "stdout",
     "output_type": "stream",
     "text": [
      "[0, <class 'distributed.worker.Worker'>, 1] <class 'int'>\n",
      "[1, <class 'distributed.worker.Worker'>, 0] <class 'int'>\n"
     ]
    }
   ],
   "source": [
    "futures = as_completed(None, with_results=True) # This is an iterator that gives back the futures as they are completed\n",
    "for i in range(n_workers):\n",
    "    j = client.submit(run_md, i, pure=False)\n",
    "    futures.add(j) # This is how we add stuff to the iterator\n",
    "for i in futures:\n",
    "    print(i[1], type(i[1][-1]))\n"
   ]
  },
  {
   "cell_type": "code",
   "execution_count": 41,
   "id": "1c5dbdd6",
   "metadata": {},
   "outputs": [
    {
     "data": {
      "text/plain": [
       "'tcp://127.0.0.1:38639'"
      ]
     },
     "execution_count": 41,
     "metadata": {},
     "output_type": "execute_result"
    }
   ],
   "source": [
    "list(client.scheduler_info()['workers'].keys())"
   ]
  }
 ],
 "metadata": {
  "kernelspec": {
   "display_name": "Python 3 (ipykernel)",
   "language": "python",
   "name": "python3"
  },
  "language_info": {
   "codemirror_mode": {
    "name": "ipython",
    "version": 3
   },
   "file_extension": ".py",
   "mimetype": "text/x-python",
   "name": "python",
   "nbconvert_exporter": "python",
   "pygments_lexer": "ipython3",
   "version": "3.8.10"
  }
 },
 "nbformat": 4,
 "nbformat_minor": 5
}
